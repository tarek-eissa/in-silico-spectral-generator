{
 "cells": [
  {
   "cell_type": "markdown",
   "id": "fe66ab7d",
   "metadata": {},
   "source": [
    "# Effects of sample size on classification performance\n",
    "\n",
    "A demo which analyzes how the classification performance is affected by varying samples sizes.\n",
    "Cohorts are created at different samples sizes using the _generate_spectra_ function and cross-validated upon to calculate the area under the ROC curve of the classification.\n",
    "The Sci-kit learn package is used for the machine learning analysis."
   ]
  },
  {
   "cell_type": "code",
   "execution_count": 1,
   "id": "eb5d6efc",
   "metadata": {},
   "outputs": [],
   "source": [
    "import time\n",
    "import numpy as np\n",
    "import pandas as pd\n",
    "import matplotlib.pyplot as plt\n",
    "from sklearn.preprocessing import StandardScaler\n",
    "from sklearn.linear_model import LogisticRegression\n",
    "from sklearn.model_selection import cross_validate, GridSearchCV, StratifiedKFold\n",
    "from sklearn.pipeline import Pipeline\n",
    "from spectral_generator import generate_spectra"
   ]
  },
  {
   "cell_type": "markdown",
   "id": "d9326823",
   "metadata": {},
   "source": [
    "## Loading input data \n",
    "\n",
    "Spectral data is used for calibrating the model. Data from the lung cancer vs. non-symptomatic controls is used for this demo. Water measurement are loaded in as well to calculate the measurement noise."
   ]
  },
  {
   "cell_type": "markdown",
   "id": "35dda2e3",
   "metadata": {},
   "source": [
    "### Blood serum spectra"
   ]
  },
  {
   "cell_type": "code",
   "execution_count": 2,
   "id": "f7d8a874",
   "metadata": {},
   "outputs": [],
   "source": [
    "serum_spectra = pd.read_csv('data/dataset_1.csv') # load the cancer and non-cancer spectra from file"
   ]
  },
  {
   "cell_type": "code",
   "execution_count": 3,
   "id": "6984238b",
   "metadata": {},
   "outputs": [],
   "source": [
    "X = serum_spectra.iloc[0:100000, 1:] # matrix containing the spectra of lung cancer and control samples. samples in rows, wavenumers in columns.\n",
    "X.columns = X.columns.astype(float)\n",
    "\n",
    "y = serum_spectra.iloc[0:100000, 0] # vector containing the sample labels.\n",
    "y = y.replace({'lung cancer control': 0, 'lung cancer case': 1})"
   ]
  },
  {
   "cell_type": "markdown",
   "id": "baaa2181",
   "metadata": {},
   "source": [
    "### Water spectra"
   ]
  },
  {
   "cell_type": "code",
   "execution_count": 4,
   "id": "cbd48d14",
   "metadata": {},
   "outputs": [],
   "source": [
    "water_spectra = pd.read_csv('data/dataset_2.csv') # load the mean-subtracted water spectra from file.\n",
    "water_spectra.columns = water_spectra.columns.astype(float)"
   ]
  },
  {
   "cell_type": "markdown",
   "id": "8604c36b",
   "metadata": {},
   "source": [
    "## Defining the calibration parameters\n",
    "\n",
    "Parameters are calculated from the input data and will be given as inputs to the _spectral_generator_ function."
   ]
  },
  {
   "cell_type": "markdown",
   "id": "0011ef94",
   "metadata": {},
   "source": [
    "### Calculating the biological properties"
   ]
  },
  {
   "cell_type": "code",
   "execution_count": 5,
   "id": "ccc3b71d",
   "metadata": {},
   "outputs": [],
   "source": [
    "mu_neg = X[y==0].mean(axis=0) # mean spectrum of control samples\n",
    "mu_pos = X[y==1].mean(axis=0) # mean spectrum of case samples\n",
    "\n",
    "B_neg = X[y==0] - mu_neg # calibration vectors for control samples\n",
    "B_pos = X[y==1] - mu_pos # calibration vectors for case samples\n",
    "\n",
    "d = mu_pos - mu_neg # discriminant vector, defining the difference in mean between cases and controls"
   ]
  },
  {
   "cell_type": "markdown",
   "id": "4cda371d",
   "metadata": {},
   "source": [
    "### Calculating the measurement noise"
   ]
  },
  {
   "cell_type": "code",
   "execution_count": 6,
   "id": "1f0b263a",
   "metadata": {},
   "outputs": [],
   "source": [
    "epsilon_std = water_spectra.std(axis=0) # standard deviation across the spectral features of the water measurements\n",
    "epsilon_std *= 9.15 # scaling factor, to account for the l2 vector normalization in the preprocessing of the sera measurements"
   ]
  },
  {
   "cell_type": "markdown",
   "id": "f1c6ea07",
   "metadata": {},
   "source": [
    "## Classification pipeline\n",
    "\n",
    "An L2-regularized logistic regression binary classifier is used.\n",
    "Model performance is estimated in a 10 fold cross-validation on standardized features.\n",
    "The regularization strength of the logistic regression is tuned in an inner 3 fold cross-validation on each training split of the outer cross-validation."
   ]
  },
  {
   "cell_type": "code",
   "execution_count": 7,
   "id": "194543d6",
   "metadata": {},
   "outputs": [],
   "source": [
    "cv_3  = StratifiedKFold(n_splits=3, shuffle=True, random_state=42)\n",
    "cv_10 = StratifiedKFold(n_splits=10, shuffle=True, random_state=42)\n",
    "\n",
    "clf = LogisticRegression(penalty='l2', tol=1e-2, max_iter=100000)\n",
    "\n",
    "pipeline = Pipeline([('scale', StandardScaler(with_mean=True, with_std=True)),\n",
    "                     ('clf', clf)])\n",
    "\n",
    "estimator = GridSearchCV(estimator=pipeline, \n",
    "                         param_grid={'clf__C': 2. ** np.arange(-12, 15, 3)},\n",
    "                         cv=cv_3, scoring='roc_auc', n_jobs=1, \n",
    "                         error_score='raise', verbose=0)"
   ]
  },
  {
   "cell_type": "markdown",
   "id": "6028f202",
   "metadata": {},
   "source": [
    "## Effects of sample size \n",
    "\n",
    "A set of different sample sizes is tested. Multiple cohorts are generated for each sample size. Classification performance is then assessed in a 10-fold cross-validation on each generated cohort of a given sample size. A classification model is fit and the area under the ROC curve (ROC-AUC) gets calculated for each cross-validation split. ROC-AUC values are then averaged across all folds for a given sample size."
   ]
  },
  {
   "cell_type": "code",
   "execution_count": 8,
   "id": "7feb5077",
   "metadata": {},
   "outputs": [],
   "source": [
    "# set the sample sizes to test for. \n",
    "# balanced cases and controls will be selected for each size.\n",
    "sample_sizes = [20, 100, 200, 400, 800, 1600]\n",
    "\n",
    "# set the number of times to repeat the cross-validation using each sample size.\n",
    "# different cohorts will be created in each repetition.\n",
    "# the higher the number, the more robust the classification performance estimation is (especially for smaller sample sizes).\n",
    "n_repeats = 5"
   ]
  },
  {
   "cell_type": "code",
   "execution_count": 9,
   "id": "b4ee1731",
   "metadata": {},
   "outputs": [
    {
     "name": "stdout",
     "output_type": "stream",
     "text": [
      "n=20\troc_auc_train= 0.86 ± 0.11, roc_auc_test=0.48 ± 0.50, elpsd 3s\n",
      "n=100\troc_auc_train= 0.85 ± 0.09, roc_auc_test=0.72 ± 0.16, elpsd 4s\n",
      "n=200\troc_auc_train= 0.86 ± 0.08, roc_auc_test=0.77 ± 0.11, elpsd 9s\n",
      "n=400\troc_auc_train= 0.95 ± 0.05, roc_auc_test=0.80 ± 0.08, elpsd 20s\n",
      "n=800\troc_auc_train= 0.95 ± 0.01, roc_auc_test=0.84 ± 0.05, elpsd 59s\n",
      "n=1600\troc_auc_train= 0.94 ± 0.01, roc_auc_test=0.87 ± 0.03, elpsd 277s\n"
     ]
    }
   ],
   "source": [
    "results = [] # list to store the classification result of each sample size.\n",
    "random_state = 0 # random state to be incremented such that each generated cohort is based on a different random seed.\n",
    "\n",
    "for sample_size in sample_sizes:\n",
    "    start = time.time() # to monitor how much time is taken in each loop iteration.\n",
    "    print('n=%d' % sample_size, end='\\t')\n",
    "    \n",
    "    roc_aucs_train = [] # list to store the calculated roc_aucs for the training sets for all repetitions and CV splits.\n",
    "    roc_aucs_test = [] # list to store the calculated roc_aucs for the testing sets for all repetitions and CV splits.\n",
    "    for rep in range(n_repeats):\n",
    "        random_state += 1\n",
    "        X_gen, y_gen = generate_spectra(B_neg=B_neg, B_pos=B_pos, \n",
    "                                        mu_neg=mu_neg, mu_pos=mu_pos, \n",
    "                                        n_neg=int(round(sample_size/2)), n_pos=int(round(sample_size/2)), \n",
    "                                        beta_std_neg='auto', beta_std_pos='auto', \n",
    "                                        epsilon_std=epsilon_std, \n",
    "                                        random_state=random_state)\n",
    "        \n",
    "        scores = cross_validate(estimator=estimator, \n",
    "                                X=X_gen, y=y_gen, # use the generated cohort as the input to the cv.\n",
    "                                cv=cv_10, \n",
    "                                scoring='roc_auc',\n",
    "                                verbose=0, \n",
    "                                n_jobs=-1, # using all cores available to evaluate the cv splits in parallel.\n",
    "                                return_train_score=True,\n",
    "                                error_score='raise')\n",
    "        \n",
    "        roc_aucs_train.extend(scores['train_score']) # extend\n",
    "        roc_aucs_test.extend(scores['test_score'])\n",
    "    \n",
    "    # append the result for the current sample size.\n",
    "    results.append({\n",
    "        'n_samples': sample_size, \n",
    "        'cv_roc_auc_mean_train': np.mean(roc_aucs_train),\n",
    "        'cv_roc_auc_std_train': np.std(roc_aucs_train),\n",
    "        'cv_roc_auc_mean_test': np.mean(roc_aucs_test),\n",
    "        'cv_roc_auc_std_test': np.std(roc_aucs_test)\n",
    "    })\n",
    "    \n",
    "    print('roc_auc_train= %.2f ± %.2f' % (results[-1]['cv_roc_auc_mean_train'], results[-1]['cv_roc_auc_std_train']), end=', ')\n",
    "    print('roc_auc_test=%.2f ± %.2f, elpsd %ds' % (results[-1]['cv_roc_auc_mean_test'], results[-1]['cv_roc_auc_std_test'], int(time.time()-start)))"
   ]
  },
  {
   "cell_type": "markdown",
   "id": "11e2675c",
   "metadata": {},
   "source": [
    "## Display results"
   ]
  },
  {
   "cell_type": "code",
   "execution_count": 10,
   "id": "a113a3cd",
   "metadata": {},
   "outputs": [
    {
     "data": {
      "text/html": [
       "<div>\n",
       "<style scoped>\n",
       "    .dataframe tbody tr th:only-of-type {\n",
       "        vertical-align: middle;\n",
       "    }\n",
       "\n",
       "    .dataframe tbody tr th {\n",
       "        vertical-align: top;\n",
       "    }\n",
       "\n",
       "    .dataframe thead th {\n",
       "        text-align: right;\n",
       "    }\n",
       "</style>\n",
       "<table border=\"1\" class=\"dataframe\">\n",
       "  <thead>\n",
       "    <tr style=\"text-align: right;\">\n",
       "      <th></th>\n",
       "      <th>n_samples</th>\n",
       "      <th>cv_roc_auc_mean_train</th>\n",
       "      <th>cv_roc_auc_std_train</th>\n",
       "      <th>cv_roc_auc_mean_test</th>\n",
       "      <th>cv_roc_auc_std_test</th>\n",
       "    </tr>\n",
       "  </thead>\n",
       "  <tbody>\n",
       "    <tr>\n",
       "      <th>0</th>\n",
       "      <td>20</td>\n",
       "      <td>0.858272</td>\n",
       "      <td>0.109849</td>\n",
       "      <td>0.480000</td>\n",
       "      <td>0.499600</td>\n",
       "    </tr>\n",
       "    <tr>\n",
       "      <th>1</th>\n",
       "      <td>100</td>\n",
       "      <td>0.852454</td>\n",
       "      <td>0.087018</td>\n",
       "      <td>0.716000</td>\n",
       "      <td>0.155177</td>\n",
       "    </tr>\n",
       "    <tr>\n",
       "      <th>2</th>\n",
       "      <td>200</td>\n",
       "      <td>0.860533</td>\n",
       "      <td>0.084536</td>\n",
       "      <td>0.773800</td>\n",
       "      <td>0.111587</td>\n",
       "    </tr>\n",
       "    <tr>\n",
       "      <th>3</th>\n",
       "      <td>400</td>\n",
       "      <td>0.952990</td>\n",
       "      <td>0.048816</td>\n",
       "      <td>0.802950</td>\n",
       "      <td>0.077017</td>\n",
       "    </tr>\n",
       "    <tr>\n",
       "      <th>4</th>\n",
       "      <td>800</td>\n",
       "      <td>0.946919</td>\n",
       "      <td>0.010294</td>\n",
       "      <td>0.842988</td>\n",
       "      <td>0.045663</td>\n",
       "    </tr>\n",
       "    <tr>\n",
       "      <th>5</th>\n",
       "      <td>1600</td>\n",
       "      <td>0.938949</td>\n",
       "      <td>0.005788</td>\n",
       "      <td>0.870256</td>\n",
       "      <td>0.030975</td>\n",
       "    </tr>\n",
       "  </tbody>\n",
       "</table>\n",
       "</div>"
      ],
      "text/plain": [
       "   n_samples  cv_roc_auc_mean_train  cv_roc_auc_std_train  \\\n",
       "0         20               0.858272              0.109849   \n",
       "1        100               0.852454              0.087018   \n",
       "2        200               0.860533              0.084536   \n",
       "3        400               0.952990              0.048816   \n",
       "4        800               0.946919              0.010294   \n",
       "5       1600               0.938949              0.005788   \n",
       "\n",
       "   cv_roc_auc_mean_test  cv_roc_auc_std_test  \n",
       "0              0.480000             0.499600  \n",
       "1              0.716000             0.155177  \n",
       "2              0.773800             0.111587  \n",
       "3              0.802950             0.077017  \n",
       "4              0.842988             0.045663  \n",
       "5              0.870256             0.030975  "
      ]
     },
     "metadata": {},
     "output_type": "display_data"
    }
   ],
   "source": [
    "df_results = pd.DataFrame(results)\n",
    "display(df_results)"
   ]
  },
  {
   "cell_type": "code",
   "execution_count": 11,
   "id": "b74b0295",
   "metadata": {},
   "outputs": [
    {
     "data": {
      "image/png": "[encoded data removed]",
      "text/plain": [
       "<Figure size 432x216 with 1 Axes>"
      ]
     },
     "metadata": {
      "needs_background": "light"
     },
     "output_type": "display_data"
    }
   ],
   "source": [
    "fig = plt.figure(figsize=(6, 3))\n",
    "\n",
    "plt.title('Effect of sample size on classification performance')\n",
    "plt.plot(df_results['n_samples'], df_results['cv_roc_auc_mean_test'], marker='X')\n",
    "plt.fill_between(df_results['n_samples'], \n",
    "                 df_results['cv_roc_auc_mean_test']+df_results['cv_roc_auc_std_test'], \n",
    "                 df_results['cv_roc_auc_mean_test']-df_results['cv_roc_auc_std_test'],\n",
    "                 alpha=0.2)\n",
    "plt.xlabel('Sample size')\n",
    "plt.ylabel('ROC-AUC')\n",
    "\n",
    "plt.show()"
   ]
  }
 ],
 "metadata": {
  "kernelspec": {
   "display_name": "Python 3",
   "language": "python",
   "name": "python3"
  },
  "language_info": {
   "codemirror_mode": {
    "name": "ipython",
    "version": 3
   },
   "file_extension": ".py",
   "mimetype": "text/x-python",
   "name": "python",
   "nbconvert_exporter": "python",
   "pygments_lexer": "ipython3",
   "version": "3.8.8"
  }
 },
 "nbformat": 4,
 "nbformat_minor": 5
}
