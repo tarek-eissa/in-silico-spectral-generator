{
 "cells": [
  {
   "cell_type": "markdown",
   "id": "fe66ab7d",
   "metadata": {},
   "source": [
    "# Effects of molecular complexity on classification performance\n",
    "\n",
    "A demo which analyzes how the classification performance is affected by varying the molecular complexity of the chemically complex spectra. Cohorts are created at different levels of molecular complexity using the _generate_spectra_ function. Each cohort is then cross-validated upon to calculate the area under the ROC curve of the classification. The Sci-kit learn package is used for the machine learning analysis."
   ]
  },
  {
   "cell_type": "code",
   "execution_count": 1,
   "id": "eb5d6efc",
   "metadata": {},
   "outputs": [],
   "source": [
    "import time\n",
    "import numpy as np\n",
    "import pandas as pd\n",
    "import matplotlib.pyplot as plt\n",
    "from sklearn.preprocessing import StandardScaler\n",
    "from sklearn.linear_model import LogisticRegression\n",
    "from sklearn.model_selection import cross_validate, GridSearchCV, StratifiedKFold\n",
    "from sklearn.pipeline import Pipeline\n",
    "from spectral_generator import generate_spectra"
   ]
  },
  {
   "cell_type": "markdown",
   "id": "d9326823",
   "metadata": {},
   "source": [
    "## Loading input data \n",
    "\n",
    "Spectral data is used for calibrating the model. Data from the lung cancer vs. non-symptomatic controls is used for this demo. Water measurement are loaded in as well to calculate the measurement noise."
   ]
  },
  {
   "cell_type": "markdown",
   "id": "35dda2e3",
   "metadata": {},
   "source": [
    "### Blood serum spectra"
   ]
  },
  {
   "cell_type": "code",
   "execution_count": 2,
   "id": "f7d8a874",
   "metadata": {},
   "outputs": [],
   "source": [
    "serum_spectra = pd.concat((pd.read_csv('data/dataset_1_part_%s.csv' % f.zfill(2)) for f in np.arange(1, 21).astype(str)), ignore_index=True) # load the cancer and non-cancer spectra from file"
   ]
  },
  {
   "cell_type": "code",
   "execution_count": 3,
   "id": "6984238b",
   "metadata": {},
   "outputs": [],
   "source": [
    "X = serum_spectra.iloc[0:100000, 1:] # matrix containing the spectra of lung cancer and control samples. samples in rows, wavenumers in columns.\n",
    "X.columns = X.columns.astype(float)\n",
    "\n",
    "y = serum_spectra.iloc[0:100000, 0] # vector containing the sample labels.\n",
    "y = y.replace({'lung cancer control': 0, 'lung cancer case': 1})"
   ]
  },
  {
   "cell_type": "markdown",
   "id": "baaa2181",
   "metadata": {},
   "source": [
    "### Water spectra"
   ]
  },
  {
   "cell_type": "code",
   "execution_count": 4,
   "id": "cbd48d14",
   "metadata": {},
   "outputs": [],
   "source": [
    "water_spectra = pd.read_csv('data/dataset_2.csv') # load the mean-subtracted water spectra from file.\n",
    "water_spectra.columns = water_spectra.columns.astype(float)"
   ]
  },
  {
   "cell_type": "markdown",
   "id": "8604c36b",
   "metadata": {},
   "source": [
    "## Defining the calibration parameters\n",
    "\n",
    "Parameters are calculated from the input data and will be given as inputs to the _spectral_generator_ function."
   ]
  },
  {
   "cell_type": "markdown",
   "id": "0011ef94",
   "metadata": {},
   "source": [
    "### Calculating the biological properties"
   ]
  },
  {
   "cell_type": "code",
   "execution_count": 5,
   "id": "ccc3b71d",
   "metadata": {},
   "outputs": [],
   "source": [
    "mu_neg = X[y==0].mean(axis=0) # mean spectrum of control samples.\n",
    "mu_pos = X[y==1].mean(axis=0) # mean spectrum of case samples.\n",
    "\n",
    "B_neg = X[y==0] - mu_neg # calibration vectors for control samples.\n",
    "B_pos = X[y==1] - mu_pos # calibration vectors for case samples."
   ]
  },
  {
   "cell_type": "markdown",
   "id": "4cda371d",
   "metadata": {},
   "source": [
    "### Calculating the measurement noise"
   ]
  },
  {
   "cell_type": "code",
   "execution_count": 6,
   "id": "1f0b263a",
   "metadata": {},
   "outputs": [],
   "source": [
    "epsilon_std = water_spectra.std(axis=0) # standard deviation across the spectral features of the water measurements\n",
    "epsilon_std *= 9.15 # scaling factor, to account for the l2 vector normalization in the preprocessing of the sera measurements"
   ]
  },
  {
   "cell_type": "markdown",
   "id": "691cf04a",
   "metadata": {},
   "source": [
    "## Classification pipeline\n",
    "\n",
    "An L2-regularized logistic regression binary classifier is used.\n",
    "Model performance is estimated in a 10 fold cross-validation on standardized features.\n",
    "The regularization strength of the logistic regression is tuned in an inner 3 fold cross-validation on each training split of the outer cross-validation."
   ]
  },
  {
   "cell_type": "code",
   "execution_count": 7,
   "id": "a4e91876",
   "metadata": {},
   "outputs": [],
   "source": [
    "cv_3  = StratifiedKFold(n_splits=3, shuffle=True, random_state=42)\n",
    "cv_10 = StratifiedKFold(n_splits=10, shuffle=True, random_state=42)\n",
    "\n",
    "clf = LogisticRegression(penalty='l2', tol=1e-2, max_iter=100000)\n",
    "\n",
    "pipeline = Pipeline([('scale', StandardScaler(with_mean=True, with_std=True)),\n",
    "                     ('clf', clf)])\n",
    "\n",
    "estimator = GridSearchCV(estimator=pipeline, \n",
    "                         param_grid={'clf__C': 2. ** np.arange(-12, 15, 3)},\n",
    "                         cv=cv_3, scoring='roc_auc', n_jobs=1, \n",
    "                         error_score='raise', verbose=0)"
   ]
  },
  {
   "cell_type": "markdown",
   "id": "cb81be60",
   "metadata": {},
   "source": [
    "## Effects of molecular complexity\n",
    "\n",
    "A set of different calibration vectors (which model the individual component spectra) are tested. The number of calibration vectors is varied to simulate varying molecular/chemical complexity of the serum-based samples. Multiple cohorts are generated for number of selected vectors. Classification performance is then assessed in a 10-fold cross-validation on each generated cohort. A classification model is fit and the area under the ROC curve (ROC-AUC) gets calculated for each cross-validation split. ROC-AUC values are then averaged across all folds each selected simulation parameter."
   ]
  },
  {
   "cell_type": "code",
   "execution_count": 8,
   "id": "3a5f8b12",
   "metadata": {},
   "outputs": [],
   "source": [
    "# set the number of calibration vectors to be tested.\n",
    "# multiple cohorts will be generated for each tested number in the list, to vary the molecular complexity.\n",
    "m_calibration_vectors = [1, 2, 4, 8, 16, 32, 64, 128, 256, 512]\n",
    "\n",
    "# set the sample size for cases (pos) and controls (neg).\n",
    "n_pos = n_neg = 523\n",
    "\n",
    "# set the number of times to repeat the cross-validation for each entry in m_calibration_vectors.\n",
    "# different cohorts will be created in each repetition.\n",
    "# the higher the number, the more robust the classification performance estimation is (especially for smaller sample sizes).\n",
    "n_repeats = 10"
   ]
  },
  {
   "cell_type": "code",
   "execution_count": 9,
   "id": "652cde65",
   "metadata": {},
   "outputs": [
    {
     "name": "stdout",
     "output_type": "stream",
     "text": [
      "m=1\troc_auc_train=1.00 ± 0.00, roc_auc_test=1.00 ± 0.00, elpsd 11s\n",
      "m=2\troc_auc_train=1.00 ± 0.00, roc_auc_test=1.00 ± 0.00, elpsd 10s\n",
      "m=4\troc_auc_train=1.00 ± 0.00, roc_auc_test=1.00 ± 0.00, elpsd 13s\n",
      "m=8\troc_auc_train=1.00 ± 0.00, roc_auc_test=1.00 ± 0.00, elpsd 21s\n",
      "m=16\troc_auc_train=1.00 ± 0.00, roc_auc_test=1.00 ± 0.00, elpsd 48s\n",
      "m=32\troc_auc_train=1.00 ± 0.00, roc_auc_test=1.00 ± 0.00, elpsd 93s\n",
      "m=64\troc_auc_train=1.00 ± 0.00, roc_auc_test=0.98 ± 0.01, elpsd 147s\n",
      "m=128\troc_auc_train=1.00 ± 0.00, roc_auc_test=0.94 ± 0.03, elpsd 173s\n",
      "m=256\troc_auc_train=0.99 ± 0.01, roc_auc_test=0.90 ± 0.03, elpsd 197s\n",
      "m=512\troc_auc_train=0.98 ± 0.02, roc_auc_test=0.88 ± 0.03, elpsd 175s\n"
     ]
    }
   ],
   "source": [
    "results = [] # list to store the classification result of each parameter combination.\n",
    "random_state = 0 # random state to be incremented such that each generated cohort is based on a different random seed.\n",
    "\n",
    "i = 0\n",
    "for m in m_calibration_vectors:\n",
    "    start = time.time() # to monitor how much time is taken in each loop iteration.\n",
    "    i += 1\n",
    "    print('m=%d' % m, end='\\t')\n",
    "\n",
    "    roc_aucs_train = [] # list to store the calculated roc_aucs for the training sets for all repetitions and CV splits.\n",
    "    roc_aucs_test = [] # list to store the calculated roc_aucs for the testing sets for all repetitions and CV splits.\n",
    "    for j in range(n_repeats):\n",
    "        random_state += 1\n",
    "        \n",
    "        # sample (without replacement) m vectors from the calibration matrix B for cases and controls.\n",
    "        B_neg_sampled = B_neg.sample(m, random_state=random_state)\n",
    "        B_pos_sampled = B_pos.sample(m, random_state=random_state)\n",
    "        \n",
    "        # the calibrated level of biological variability for cases and controls, given the current molecular complexity.\n",
    "        beta_std_neg = 1/np.sqrt(B_neg_sampled.shape[0])\n",
    "        beta_std_pos = 1/np.sqrt(B_pos_sampled.shape[0])\n",
    "        \n",
    "        X_gen, y_gen = generate_spectra(B_neg=B_neg_sampled, B_pos=B_pos_sampled, \n",
    "                                        mu_neg=mu_neg, mu_pos=mu_pos, \n",
    "                                        n_neg=n_neg, n_pos=n_pos,\n",
    "                                        beta_std_neg=beta_std_neg, beta_std_pos=beta_std_pos, \n",
    "                                        epsilon_std=epsilon_std,\n",
    "                                        random_state=random_state)\n",
    "\n",
    "        scores = cross_validate(estimator=estimator,\n",
    "                                X=X_gen, y=y_gen, # use the generated cohort as the input to the cv.\n",
    "                                cv=cv_10, \n",
    "                                scoring='roc_auc',\n",
    "                                verbose=0, \n",
    "                                n_jobs=-1, # using all cores available to evaluate the cv splits in parallel.\n",
    "                                return_train_score=True,\n",
    "                                error_score='raise')\n",
    "\n",
    "        roc_aucs_train.extend(scores['train_score'])\n",
    "        roc_aucs_test.extend(scores['test_score'])\n",
    "\n",
    "    # append the result for the current parameter\n",
    "    results.append({\n",
    "        'm': m, \n",
    "        'cv_roc_auc_mean_train': np.mean(roc_aucs_train),\n",
    "        'cv_roc_auc_std_train': np.std(roc_aucs_train),\n",
    "        'cv_roc_auc_mean_test': np.mean(roc_aucs_test),\n",
    "        'cv_roc_auc_std_test': np.std(roc_aucs_test),\n",
    "    })\n",
    "\n",
    "    print('roc_auc_train=%.2f ± %.2f' % (results[-1]['cv_roc_auc_mean_train'], results[-1]['cv_roc_auc_std_train']), end=', ')\n",
    "    print('roc_auc_test=%.2f ± %.2f' % (results[-1]['cv_roc_auc_mean_test'], results[-1]['cv_roc_auc_std_test']), end=', ')\n",
    "    print('elpsd %ds' % int(time.time()-start))"
   ]
  },
  {
   "cell_type": "markdown",
   "id": "ebdc8f43",
   "metadata": {},
   "source": [
    "## Display results"
   ]
  },
  {
   "cell_type": "code",
   "execution_count": 10,
   "id": "2db8f095",
   "metadata": {
    "scrolled": true
   },
   "outputs": [
    {
     "data": {
      "text/html": [
       "<div>\n",
       "<style scoped>\n",
       "    .dataframe tbody tr th:only-of-type {\n",
       "        vertical-align: middle;\n",
       "    }\n",
       "\n",
       "    .dataframe tbody tr th {\n",
       "        vertical-align: top;\n",
       "    }\n",
       "\n",
       "    .dataframe thead th {\n",
       "        text-align: right;\n",
       "    }\n",
       "</style>\n",
       "<table border=\"1\" class=\"dataframe\">\n",
       "  <thead>\n",
       "    <tr style=\"text-align: right;\">\n",
       "      <th></th>\n",
       "      <th>m</th>\n",
       "      <th>cv_roc_auc_mean_train</th>\n",
       "      <th>cv_roc_auc_std_train</th>\n",
       "      <th>cv_roc_auc_mean_test</th>\n",
       "      <th>cv_roc_auc_std_test</th>\n",
       "    </tr>\n",
       "  </thead>\n",
       "  <tbody>\n",
       "    <tr>\n",
       "      <th>0</th>\n",
       "      <td>1</td>\n",
       "      <td>1.000000</td>\n",
       "      <td>0.000000e+00</td>\n",
       "      <td>1.000000</td>\n",
       "      <td>0.000000</td>\n",
       "    </tr>\n",
       "    <tr>\n",
       "      <th>1</th>\n",
       "      <td>2</td>\n",
       "      <td>1.000000</td>\n",
       "      <td>0.000000e+00</td>\n",
       "      <td>1.000000</td>\n",
       "      <td>0.000000</td>\n",
       "    </tr>\n",
       "    <tr>\n",
       "      <th>2</th>\n",
       "      <td>4</td>\n",
       "      <td>1.000000</td>\n",
       "      <td>8.989361e-07</td>\n",
       "      <td>0.999993</td>\n",
       "      <td>0.000072</td>\n",
       "    </tr>\n",
       "    <tr>\n",
       "      <th>3</th>\n",
       "      <td>8</td>\n",
       "      <td>1.000000</td>\n",
       "      <td>0.000000e+00</td>\n",
       "      <td>1.000000</td>\n",
       "      <td>0.000000</td>\n",
       "    </tr>\n",
       "    <tr>\n",
       "      <th>4</th>\n",
       "      <td>16</td>\n",
       "      <td>1.000000</td>\n",
       "      <td>0.000000e+00</td>\n",
       "      <td>1.000000</td>\n",
       "      <td>0.000000</td>\n",
       "    </tr>\n",
       "    <tr>\n",
       "      <th>5</th>\n",
       "      <td>32</td>\n",
       "      <td>1.000000</td>\n",
       "      <td>0.000000e+00</td>\n",
       "      <td>0.999723</td>\n",
       "      <td>0.000787</td>\n",
       "    </tr>\n",
       "    <tr>\n",
       "      <th>6</th>\n",
       "      <td>64</td>\n",
       "      <td>1.000000</td>\n",
       "      <td>0.000000e+00</td>\n",
       "      <td>0.984154</td>\n",
       "      <td>0.010910</td>\n",
       "    </tr>\n",
       "    <tr>\n",
       "      <th>7</th>\n",
       "      <td>128</td>\n",
       "      <td>0.999563</td>\n",
       "      <td>8.707427e-04</td>\n",
       "      <td>0.939847</td>\n",
       "      <td>0.027445</td>\n",
       "    </tr>\n",
       "    <tr>\n",
       "      <th>8</th>\n",
       "      <td>256</td>\n",
       "      <td>0.994041</td>\n",
       "      <td>8.838821e-03</td>\n",
       "      <td>0.897197</td>\n",
       "      <td>0.030257</td>\n",
       "    </tr>\n",
       "    <tr>\n",
       "      <th>9</th>\n",
       "      <td>512</td>\n",
       "      <td>0.977505</td>\n",
       "      <td>2.041946e-02</td>\n",
       "      <td>0.876034</td>\n",
       "      <td>0.032127</td>\n",
       "    </tr>\n",
       "  </tbody>\n",
       "</table>\n",
       "</div>"
      ],
      "text/plain": [
       "     m  cv_roc_auc_mean_train  cv_roc_auc_std_train  cv_roc_auc_mean_test  \\\n",
       "0    1               1.000000          0.000000e+00              1.000000   \n",
       "1    2               1.000000          0.000000e+00              1.000000   \n",
       "2    4               1.000000          8.989361e-07              0.999993   \n",
       "3    8               1.000000          0.000000e+00              1.000000   \n",
       "4   16               1.000000          0.000000e+00              1.000000   \n",
       "5   32               1.000000          0.000000e+00              0.999723   \n",
       "6   64               1.000000          0.000000e+00              0.984154   \n",
       "7  128               0.999563          8.707427e-04              0.939847   \n",
       "8  256               0.994041          8.838821e-03              0.897197   \n",
       "9  512               0.977505          2.041946e-02              0.876034   \n",
       "\n",
       "   cv_roc_auc_std_test  \n",
       "0             0.000000  \n",
       "1             0.000000  \n",
       "2             0.000072  \n",
       "3             0.000000  \n",
       "4             0.000000  \n",
       "5             0.000787  \n",
       "6             0.010910  \n",
       "7             0.027445  \n",
       "8             0.030257  \n",
       "9             0.032127  "
      ]
     },
     "metadata": {},
     "output_type": "display_data"
    }
   ],
   "source": [
    "df_results = pd.DataFrame(results)\n",
    "display(df_results)"
   ]
  },
  {
   "cell_type": "code",
   "execution_count": 11,
   "id": "9c1cbe9d",
   "metadata": {},
   "outputs": [
    {
     "data": {
      "image/png": "[encoded data removed]",
      "text/plain": [
       "<Figure size 936x288 with 1 Axes>"
      ]
     },
     "metadata": {
      "needs_background": "light"
     },
     "output_type": "display_data"
    }
   ],
   "source": [
    "fig = plt.figure(figsize=(13, 4))\n",
    "plt.title('Effect of molecular complexity on ROC-AUC')\n",
    "plt.plot(df_results['m'], df_results['cv_roc_auc_mean_test'], marker='X')\n",
    "plt.xlabel('Biological calibration vectors per class ($m$)')\n",
    "plt.ylabel(r'ROC-AUC @ $\\beta\\left(0, \\frac{1}{\\sqrt{m}}\\right)$')\n",
    "plt.show()"
   ]
  }
 ],
 "metadata": {
  "kernelspec": {
   "display_name": "Python 3",
   "language": "python",
   "name": "python3"
  },
  "language_info": {
   "codemirror_mode": {
    "name": "ipython",
    "version": 3
   },
   "file_extension": ".py",
   "mimetype": "text/x-python",
   "name": "python",
   "nbconvert_exporter": "python",
   "pygments_lexer": "ipython3",
   "version": "3.8.8"
  }
 },
 "nbformat": 4,
 "nbformat_minor": 5
}
